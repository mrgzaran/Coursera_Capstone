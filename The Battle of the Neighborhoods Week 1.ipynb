{
    "cells": [
        {
            "cell_type": "markdown",
            "metadata": {
                "collapsed": true
            },
            "source": "# THE BATTLE OF THE NEIGHBORHOODS\n## My final Capstone Project"
        },
        {
            "cell_type": "markdown",
            "metadata": {},
            "source": "## Introduction: Business Problem"
        },
        {
            "cell_type": "markdown",
            "metadata": {},
            "source": "#### Background\n\nNew York is a truly diverse city situated in the east coast of USA. Because of its cultural appeal it attracts many people both local and foreigner. In general, New York has a very rich social life where any moment is a good time to dine out, visit a historical site or spend hours at any bar.\nCurrently, globalization has taken a very important role in the spread of many cultures. More and more we see new fashion trends, social habits, and cuisines form other countries. It seems as if national borders cannot do anything to prevent this explosion of new trends.\nNew restaurants catering to diverse crowds pop up all the time. People are constantly coming up with new dishes, bringing them from their hometown or getting inspired by their international trips. Very recently we moved to New York in search of new opportunities. For the first few weeks we immersed ourselves in the city and it\u2019s culture, however, being form another country, we started to miss our cuisine, this is why we decided to search for the best Spanish restaurants in the city. Unfortunately, there weren\u2019t many. Because of this, an idea formed in our mind, why not place our very own Spanish restaurant in NYC?\n\n#### New Opportunity\n\nGiven NYC\u2019s cultural openness and the very few Spanish restaurants available in the city we determined it would be a good market opportunity.\n"
        },
        {
            "cell_type": "markdown",
            "metadata": {},
            "source": "## Data"
        },
        {
            "cell_type": "markdown",
            "metadata": {},
            "source": "1. Accurate study of the different Boroughs and Neighbourhoods of NYC.\n2. A study of all the Spanish restaurants in the area.\n\nThis information will be taken from Foursquare and GeoSpace and imported into a Jupyter Notebook, where the analysis will be done."
        }
    ],
    "metadata": {
        "kernelspec": {
            "display_name": "Python 3.6",
            "language": "python",
            "name": "python3"
        },
        "language_info": {
            "codemirror_mode": {
                "name": "ipython",
                "version": 3
            },
            "file_extension": ".py",
            "mimetype": "text/x-python",
            "name": "python",
            "nbconvert_exporter": "python",
            "pygments_lexer": "ipython3",
            "version": "3.6.9"
        }
    },
    "nbformat": 4,
    "nbformat_minor": 1
}